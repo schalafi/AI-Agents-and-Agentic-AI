{
 "cells": [
  {
   "cell_type": "code",
   "execution_count": null,
   "id": "61f59434",
   "metadata": {
    "vscode": {
     "languageId": "plaintext"
    }
   },
   "outputs": [],
   "source": [
    "import streamlit as st\n",
    "from snowflake.snowpark.context import get_active_session\n",
    "import pandas as pd\n",
    "import matplotlib.pyplot as plt\n",
    "from snowflake.cortex import complete\n",
    "\n",
    "# Get data from Snowflake\n",
    "session = get_active_session()\n",
    "query = \"\"\"\n",
    "SELECT\n",
    "    *\n",
    "FROM\n",
    "    REVIEWS_WITH_SENTIMENT\n",
    "\"\"\"\n",
    "df_reviews = session.sql(query).to_pandas()\n",
    "\n",
    "# Convert date columns to datetime\n",
    "df_reviews['REVIEW_DATE'] = pd.to_datetime(df_reviews['REVIEW_DATE'])\n",
    "df_reviews['SHIPPING_DATE'] = pd.to_datetime(df_reviews['SHIPPING_DATE'])\n",
    "\n",
    "df_string = df_reviews.to_string(index=False)\n",
    "\n",
    "def create_avalanche_prompt(user_question: str, dataframe_context: str) -> str:\n",
    "    \"\"\"Creates the prompt for the LLM.\"\"\"\n",
    "    prompt = f\"\"\"\n",
    "You are a helpful AI chat assistant. Answer the user's question based on the provided\n",
    "context data from customer reviews provided below.\n",
    "\n",
    "Use the data in the <context> section to inform your answer about customer reviews or sentiments\n",
    "if the question relates to it. If the question is general and not answerable from the context, answer naturally. Do not explicitly mention \"based on the context\" unless necessary for clarity.\n",
    "\n",
    "<context>\n",
    "{dataframe_context}\n",
    "</context>\n",
    "\n",
    "<question>\n",
    "{user_question}\n",
    "</question>\n",
    "\"\"\"\n",
    "    return prompt"
   ]
  },
  {
   "cell_type": "code",
   "execution_count": null,
   "id": "21032d43",
   "metadata": {
    "vscode": {
     "languageId": "plaintext"
    }
   },
   "outputs": [],
   "source": [
    "# Initialize the Streamlit app\n",
    "st.title(\"Avalanche Streamlit App\")\n",
    "\n",
    "# Visualization: Average Sentiment by Product\n",
    "st.subheader(\"Average Sentiment by Product\")\n",
    "product_sentiment = df_reviews.groupby(\"PRODUCT\")[\"SENTIMENT_SCORE\"].mean().sort_values()\n",
    "\n",
    "fig, ax = plt.subplots()\n",
    "product_sentiment.plot(kind=\"barh\", ax=ax, title=\"Average Sentiment by Product\")\n",
    "ax.set_xlabel(\"Sentiment Score\")\n",
    "plt.tight_layout()\n",
    "st.pyplot(fig)\n",
    "\n",
    "# Product filter on the main page\n",
    "st.subheader(\"Filter by Product\")\n",
    "products = df_reviews['PRODUCT'].unique()\n",
    "selected_products = st.multiselect(\n",
    "    \"Select Products to View:\",\n",
    "    options=products,\n",
    "    default=products  # Default to showing all products\n",
    ")\n",
    "\n",
    "# Filter data based on selected products\n",
    "filtered_data = df_reviews[df_reviews['PRODUCT'].isin(selected_products)]\n",
    "\n",
    "# Display the filtered data as a table\n",
    "st.subheader(\"Filtered Data Table\")\n",
    "st.dataframe(filtered_data)\n",
    "\n",
    "# Visualization: Sentiment Distribution for Selected Products\n",
    "st.subheader(\"Sentiment Distribution for Selected Products\")\n",
    "fig, ax = plt.subplots()\n",
    "filtered_data['SENTIMENT_SCORE'].hist(ax=ax, bins=20)\n",
    "ax.set_title(\"Distribution of Sentiment Scores\")\n",
    "ax.set_xlabel(\"Sentiment Score\")\n",
    "ax.set_ylabel(\"Frequency\")\n",
    "st.pyplot(fig)\n",
    "\n",
    "# Chatbot for Q&A\n",
    "st.subheader(\"Ask Questions About Your Data\")\n",
    "user_question = st.text_input(\"Enter your question here:\")\n",
    "\n",
    "if user_question:\n",
    "    response = complete(model=\"claude-3-5-sonnet\", prompt=create_avalanche_prompt(user_question, df_string), session=session)\n",
    "    st.write(response)"
   ]
  }
 ],
 "metadata": {
  "language_info": {
   "name": "python"
  }
 },
 "nbformat": 4,
 "nbformat_minor": 5
}
