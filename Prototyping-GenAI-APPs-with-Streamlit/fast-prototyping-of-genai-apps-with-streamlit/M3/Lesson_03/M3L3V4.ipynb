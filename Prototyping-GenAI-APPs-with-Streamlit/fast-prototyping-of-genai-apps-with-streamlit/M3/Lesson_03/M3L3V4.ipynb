{
 "cells": [
  {
   "cell_type": "code",
   "execution_count": null,
   "id": "22f90a4d",
   "metadata": {
    "vscode": {
     "languageId": "plaintext"
    }
   },
   "outputs": [],
   "source": [
    "SELECT * FROM AVALANCHE_DB.AVALANCHE_SCHEMA.REVIEWS_WITH_SENTIMENT LIMIT 5"
   ]
  },
  {
   "cell_type": "code",
   "execution_count": null,
   "id": "6ee8ddb3",
   "metadata": {
    "vscode": {
     "languageId": "plaintext"
    }
   },
   "outputs": [],
   "source": [
    "CREATE OR REPLACE TABLE AVALANCHE_DB.AVALANCHE_SCHEMA.CHUNKED_CONTENT (\n",
    "    file_name VARCHAR,\n",
    "    CHUNK VARCHAR\n",
    ");\n",
    "\n",
    "INSERT INTO AVALANCHE_DB.AVALANCHE_SCHEMA.CHUNKED_CONTENT (file_name, CHUNK)\n",
    "SELECT\n",
    "    FILENAME,\n",
    "    c.value AS CHUNK\n",
    "FROM\n",
    "    AVALANCHE_DB.AVALANCHE_SCHEMA.REVIEWS_WITH_SENTIMENT,\n",
    "    LATERAL FLATTEN( input => SNOWFLAKE.CORTEX.SPLIT_TEXT_RECURSIVE_CHARACTER (\n",
    "        REVIEW_TEXT,\n",
    "        'markdown',\n",
    "        1800,\n",
    "        250\n",
    "    )) c;"
   ]
  },
  {
   "cell_type": "code",
   "execution_count": null,
   "id": "c4c28b9a",
   "metadata": {
    "vscode": {
     "languageId": "plaintext"
    }
   },
   "outputs": [],
   "source": [
    "SELECT * FROM AVALANCHE_DB.AVALANCHE_SCHEMA.CHUNKED_CONTENT LIMIT 5"
   ]
  },
  {
   "cell_type": "code",
   "execution_count": null,
   "id": "0e692db1",
   "metadata": {
    "vscode": {
     "languageId": "plaintext"
    }
   },
   "outputs": [],
   "source": [
    "CREATE OR REPLACE CORTEX SEARCH SERVICE AVALANCHE_DB.AVALANCHE_SCHEMA.AVALANCHE_SEARCH_SERVICE\n",
    "    ON chunk\n",
    "    WAREHOUSE = compute_wh\n",
    "    TARGET_LAG = '1 minute'\n",
    "    EMBEDDING_MODEL = 'snowflake-arctic-embed-l-v2.0'\n",
    "    AS (\n",
    "    SELECT\n",
    "        file_name,\n",
    "        chunk\n",
    "    FROM AVALANCHE_DB.AVALANCHE_SCHEMA.CHUNKED_CONTENT\n",
    "    );"
   ]
  },
  {
   "cell_type": "code",
   "execution_count": null,
   "id": "0958e192",
   "metadata": {
    "vscode": {
     "languageId": "plaintext"
    }
   },
   "outputs": [],
   "source": [
    "-- Query it with SQL\n",
    "SELECT PARSE_JSON(\n",
    "  SNOWFLAKE.CORTEX.SEARCH_PREVIEW(\n",
    "      'AVALANCHE_DB.AVALANCHE_SCHEMA.AVALANCHE_SEARCH_SERVICE',\n",
    "      '{\n",
    "         \"query\": \"Any goggles review?\",\n",
    "         \"columns\":[\n",
    "            \"file_name\",\n",
    "            \"CHUNK\"\n",
    "         ],\n",
    "         \"limit\":3\n",
    "      }'\n",
    "  )\n",
    ")['results'] as results;"
   ]
  },
  {
   "cell_type": "code",
   "execution_count": null,
   "id": "63523be7",
   "metadata": {
    "vscode": {
     "languageId": "plaintext"
    }
   },
   "outputs": [],
   "source": [
    "# Query it with Python\n",
    "from snowflake.core import Root\n",
    "from snowflake.snowpark.context import get_active_session\n",
    "import streamlit as st\n",
    "import json\n",
    "import pandas as pd\n",
    "\n",
    "session = get_active_session()\n",
    "\n",
    "prompt=\"Any goggles review?\"\n",
    "\n",
    "root = Root(session)\n",
    "\n",
    "# Query service\n",
    "svc = (root\n",
    "  .databases[\"AVALANCHE_DB\"]\n",
    "  .schemas[\"AVALANCHE_SCHEMA\"]\n",
    "  .cortex_search_services[\"AVALANCHE_SEARCH_SERVICE\"]\n",
    ")\n",
    "\n",
    "resp = svc.search(\n",
    "  query=prompt,\n",
    "  columns=[\"CHUNK\", \"file_name\"],\n",
    "  limit=3\n",
    ").to_json()\n",
    "\n",
    "# JSON formatting\n",
    "json_conv = json.loads(resp) if isinstance(resp, str) else resp\n",
    "search_df = pd.json_normalize(json_conv['results'])\n",
    "\n",
    "for _, row in search_df.iterrows():\n",
    "    st.write(f\"**{row['CHUNK']}**\")\n",
    "    st.caption(row['file_name'])\n",
    "    st.write('---')"
   ]
  }
 ],
 "metadata": {
  "language_info": {
   "name": "python"
  }
 },
 "nbformat": 4,
 "nbformat_minor": 5
}
