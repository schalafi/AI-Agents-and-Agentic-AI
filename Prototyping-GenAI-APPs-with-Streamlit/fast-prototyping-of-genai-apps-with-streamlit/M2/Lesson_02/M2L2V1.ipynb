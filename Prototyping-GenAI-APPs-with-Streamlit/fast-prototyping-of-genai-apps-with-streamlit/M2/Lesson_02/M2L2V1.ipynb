{
 "cells": [
  {
   "cell_type": "code",
   "execution_count": null,
   "id": "7eb45762",
   "metadata": {},
   "outputs": [],
   "source": [
    "DESC TABLE CUSTOMER_REVIEWS;"
   ]
  },
  {
   "cell_type": "code",
   "execution_count": null,
   "id": "f6b6005f",
   "metadata": {},
   "outputs": [],
   "source": [
    "DESC TABLE SHIPPING_LOGS;"
   ]
  },
  {
   "cell_type": "code",
   "execution_count": null,
   "id": "ea95901e",
   "metadata": {},
   "outputs": [],
   "source": [
    "CREATE OR REPLACE TABLE merged_reviews AS\n",
    "SELECT \n",
    "  r.order_id,\n",
    "  r.filename,\n",
    "  r.product,\n",
    "  r.review_date,\n",
    "  r.review_text,\n",
    "  s.shipping_date,\n",
    "  s.carrier,\n",
    "  s.tracking_number,\n",
    "  s.latitude,\n",
    "  s.longitude,\n",
    "  s.status,\n",
    "  s.delivery_days,\n",
    "  s.late,\n",
    "  s.region\n",
    "FROM \n",
    "  customer_reviews r\n",
    "JOIN \n",
    "  shipping_logs s\n",
    "ON \n",
    "  r.order_id = s.order_id;"
   ]
  },
  {
   "cell_type": "code",
   "execution_count": null,
   "id": "af13165c",
   "metadata": {},
   "outputs": [],
   "source": [
    "from snowflake.snowpark.context import get_active_session\n",
    "\n",
    "session = get_active_session()\n",
    "# Load parsed reviews into a DataFrame\n",
    "snowpark_df = session.sql(\"SELECT * FROM merged_reviews\")\n",
    "\n",
    "# Show a sample of the data\n",
    "snowpark_df.show()"
   ]
  },
  {
   "cell_type": "code",
   "execution_count": null,
   "id": "abdec4dc",
   "metadata": {},
   "outputs": [],
   "source": [
    "from snowflake.snowpark.functions import lower, trim, col\n",
    "\n",
    "# Standardize the review text\n",
    "df_lowercase = snowpark_df.with_column(\"review_text\", trim(lower(col(\"review_text\"))))"
   ]
  },
  {
   "cell_type": "code",
   "execution_count": null,
   "id": "66e1e81b",
   "metadata": {},
   "outputs": [],
   "source": [
    "df_lowercase.write.mode(\"overwrite\").save_as_table(\"clean_reviews\")"
   ]
  }
 ],
 "metadata": {
  "kernelspec": {
   "display_name": "dlai",
   "language": "python",
   "name": "python3"
  },
  "language_info": {
   "name": "python",
   "version": "3.11.5"
  }
 },
 "nbformat": 4,
 "nbformat_minor": 5
}
