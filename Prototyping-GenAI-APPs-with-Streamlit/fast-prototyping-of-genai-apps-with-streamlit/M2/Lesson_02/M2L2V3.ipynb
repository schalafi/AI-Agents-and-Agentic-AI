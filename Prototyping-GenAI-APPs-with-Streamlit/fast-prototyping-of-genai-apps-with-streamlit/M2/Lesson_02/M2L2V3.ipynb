{
 "cells": [
  {
   "cell_type": "code",
   "execution_count": null,
   "id": "0bbd409a",
   "metadata": {
    "vscode": {
     "languageId": "plaintext"
    }
   },
   "outputs": [],
   "source": [
    "from snowflake.snowpark.context import get_active_session\n",
    "\n",
    "session = get_active_session()"
   ]
  },
  {
   "cell_type": "code",
   "execution_count": null,
   "metadata": {
    "vscode": {
     "languageId": "plaintext"
    }
   },
   "outputs": [],
   "source": [
    "query = \"\"\"\n",
    "SELECT\n",
    "    *,\n",
    "FROM \n",
    "    REVIEWS_WITH_SENTIMENT\n",
    "\"\"\"\n",
    "\n",
    "df = session.sql(query).to_pandas()\n",
    "\n",
    "df.head()"
   ]
  },
  {
   "cell_type": "code",
   "execution_count": null,
   "metadata": {
    "vscode": {
     "languageId": "plaintext"
    }
   },
   "outputs": [],
   "source": [
    "import matplotlib.pyplot as plt\n",
    "\n",
    "product_sentiment = df.groupby(\"PRODUCT\")[\"SENTIMENT_SCORE\"].mean().sort_values()\n",
    "product_sentiment.plot(kind=\"barh\", title=\"Average Sentiment by Product\")\n",
    "plt.xlabel(\"Sentiment Score\")\n",
    "plt.tight_layout()\n",
    "plt.show()"
   ]
  },
  {
   "cell_type": "code",
   "execution_count": null,
   "id": "f6854580",
   "metadata": {
    "vscode": {
     "languageId": "plaintext"
    }
   },
   "outputs": [],
   "source": [
    "shipment_counts = (\n",
    "    df.groupby('SHIPPING_DATE')['ORDER_ID']\n",
    "      .count()\n",
    "      .reset_index(name='SHIPMENT_COUNT')\n",
    "      .sort_values('SHIPPING_DATE')\n",
    ")\n",
    "\n",
    "shipment_counts.head()"
   ]
  },
  {
   "cell_type": "code",
   "execution_count": null,
   "id": "5f046b66",
   "metadata": {
    "vscode": {
     "languageId": "plaintext"
    }
   },
   "outputs": [],
   "source": [
    "shipment_counts.plot(x=\"SHIPPING_DATE\", y=\"SHIPMENT_COUNT\", kind=\"line\", title=\"Shipments Per Day\")\n",
    "plt.ylabel(\"Number of Shipments\")\n",
    "plt.xticks(rotation=45)\n",
    "plt.tight_layout()\n",
    "plt.show()"
   ]
  },
  {
   "cell_type": "code",
   "execution_count": null,
   "id": "248ae814",
   "metadata": {
    "vscode": {
     "languageId": "plaintext"
    }
   },
   "outputs": [],
   "source": [
    "low_volume_days = shipment_counts[shipment_counts[\"SHIPMENT_COUNT\"] < 5]\n",
    "print(\"Low-volume shipping days:\\n\", low_volume_days)"
   ]
  },
  {
   "cell_type": "code",
   "execution_count": null,
   "id": "5c9413de",
   "metadata": {
    "vscode": {
     "languageId": "plaintext"
    }
   },
   "outputs": [],
   "source": [
    "carrier_counts = df.groupby(\"CARRIER\")[\"ORDER_ID\"].count()\n",
    "carrier_counts.plot(kind=\"bar\", title=\"Total Shipments by Carrier\")\n",
    "plt.ylabel(\"Number of Shipments\")\n",
    "plt.tight_layout()\n",
    "plt.show()"
   ]
  },
  {
   "cell_type": "code",
   "execution_count": null,
   "id": "f4e0896c",
   "metadata": {
    "vscode": {
     "languageId": "plaintext"
    }
   },
   "outputs": [],
   "source": [
    "avg_sentiment = df.groupby(\"STATUS\")[\"SENTIMENT_SCORE\"].mean().sort_values()\n",
    "\n",
    "avg_sentiment.plot(kind=\"barh\", title=\"Avg Sentiment by Shipping Status\")\n",
    "plt.xlabel(\"Sentiment Score\")\n",
    "plt.ylabel(\"Shipping Status\")\n",
    "plt.tight_layout()\n",
    "plt.show()"
   ]
  }
 ],
 "metadata": {
  "language_info": {
   "name": "python"
  }
 },
 "nbformat": 4,
 "nbformat_minor": 5
}
