{
 "cells": [
  {
   "cell_type": "code",
   "execution_count": null,
   "id": "62923686",
   "metadata": {
    "vscode": {
     "languageId": "plaintext"
    }
   },
   "outputs": [],
   "source": [
    "-- Extract PRODUCT name, DATE, and CUSTOMER_REVIEW from the LAYOUT column\n",
    "SELECT\n",
    "    filename,\n",
    "    REGEXP_SUBSTR(extracted_content:content, 'Product: (.*?)\\\\n', 1, 1, 'e') as product,\n",
    "    TO_DATE(REGEXP_SUBSTR(extracted_content:content, 'Date: (202[0-9]-[0-9]{2}-[0-9]{2})', 1, 1, 'e')) as review_date,\n",
    "    CASE \n",
    "        WHEN POSITION('Customer Review' IN extracted_content:content) > 0 THEN\n",
    "            SUBSTRING(extracted_content:content, POSITION('Customer Review' IN extracted_content:content) + LENGTH('Customer Review'))\n",
    "        ELSE NULL\n",
    "    END as review_text,\n",
    "    CAST(CONCAT('2', REGEXP_SUBSTR(filename, '\\\\d+')) AS INTEGER) AS order_id,\n",
    "FROM raw_customer_reviews;"
   ]
  },
  {
   "cell_type": "code",
   "execution_count": null,
   "metadata": {
    "vscode": {
     "languageId": "plaintext"
    }
   },
   "outputs": [],
   "source": [
    "-- Create a table to store the parsed and structured document content with order_id\n",
    "CREATE OR REPLACE TABLE avalanche_db.avalanche_schema.customer_reviews (\n",
    "    filename VARCHAR,\n",
    "    product VARCHAR,\n",
    "    review_date DATE,\n",
    "    review_text TEXT,\n",
    "    order_id INTEGER\n",
    ");\n",
    "\n",
    "-- Insert the parsed content, including order_id derived from filename\n",
    "INSERT INTO avalanche_db.avalanche_schema.customer_reviews (filename, product, review_date, review_text, order_id)\n",
    "SELECT\n",
    "    *\n",
    "FROM {{cell1}};"
   ]
  }
 ],
 "metadata": {
  "language_info": {
   "name": "python"
  }
 },
 "nbformat": 4,
 "nbformat_minor": 5
}
