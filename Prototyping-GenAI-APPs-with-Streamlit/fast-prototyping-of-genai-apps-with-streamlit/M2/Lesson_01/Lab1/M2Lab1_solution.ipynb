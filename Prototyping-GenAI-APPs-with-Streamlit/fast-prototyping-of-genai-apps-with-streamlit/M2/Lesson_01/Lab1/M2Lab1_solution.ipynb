{
 "cells": [
  {
   "cell_type": "markdown",
   "id": "85b9433a",
   "metadata": {},
   "source": [
    "# Lab: Ingesting and Analyzing Avalanche Shipping Logs"
   ]
  },
  {
   "cell_type": "markdown",
   "id": "77c5c610",
   "metadata": {},
   "source": [
    "**Objective:**  \n",
    "You’ll use Snowflake and Python to ingest a csv file containing Avalanche shipping logs. Then you will clean the data, and extract useful insights that can inform the next stage of your GenAI prototype."
   ]
  },
  {
   "cell_type": "markdown",
   "id": "d4b26733",
   "metadata": {},
   "source": [
    "**Story Context:**  \n",
    "You just got your hands on internal shipping logs from Avalanche's distribution warehouse. These logs contain important operational data — delivery errors, shipping times, product IDs, and destinations.\n",
    "\n",
    "Your job is to:\n",
    "1. Upload the csv file into Snowflake.\n",
    "2. Clean and explore the data.\n",
    "3. Save the data to a table in the database."
   ]
  },
  {
   "cell_type": "markdown",
   "id": "04dff99c",
   "metadata": {},
   "source": [
    "## ✅ Step 1: Upload the file to Snowflake Notebook"
   ]
  },
  {
   "cell_type": "code",
   "execution_count": null,
   "id": "285910c4",
   "metadata": {},
   "outputs": [],
   "source": [
    "from snowflake.snowpark.context import get_active_session\n",
    "\n",
    "session = get_active_session()\n",
    "\n",
    "\n",
    "# Read the shipping log CSV file from the Snowflake stage with headers\n",
    "shipping_df = session.read.options({\n",
    "    \"inferSchema\": True,\n",
    "    \"header\": True\n",
    "}).csv(\"@AVALANCHE_STAGE/shipping_logs.csv\")\n",
    "# Preview the data\n",
    "shipping_df.show()"
   ]
  },
  {
   "cell_type": "markdown",
   "id": "3592c60b",
   "metadata": {},
   "source": [
    "## ✅ Step 2: Clean and explore the data\n",
    "\n",
    "Start by renaming the columns. Looking at the dataframe preview above, you can see that the column names have quotes around them. That's because snowpark loads column names exactly as they appear in the file—including quotes, capital letters, and spaces. The easy way to fix that is to just update them with an alias that renames the columns.\n"
   ]
  },
  {
   "cell_type": "code",
   "execution_count": null,
   "id": "17e6b80c",
   "metadata": {},
   "outputs": [],
   "source": [
    "from snowflake.snowpark.functions import col\n",
    "\n",
    "# Rename columns explicitly (remove any extra characters or spaces)\n",
    "shipping_df = shipping_df.select(\n",
    "    col('\"Order ID\"').alias(\"Order_ID\"),\n",
    "    col('\"Shipping Date\"').alias(\"Shipping_Date\"),\n",
    "    col('\"Carrier\"').alias(\"Carrier\"),\n",
    "    col('\"Tracking Number\"').alias(\"Tracking_Number\"),\n",
    "    col('\"Latitude\"').alias(\"Latitude\"),\n",
    "    col('\"Longitude\"').alias(\"Longitude\"),\n",
    "    col('\"Status\"').alias(\"Status\"),\n",
    "    col('\"Delivery Days\"').alias(\"Delivery_Days\"),\n",
    "    col('\"Late\"').alias(\"Late\"),\n",
    "    col('\"Region\"').alias(\"Region\")\n",
    ")"
   ]
  },
  {
   "cell_type": "markdown",
   "id": "2bdad086",
   "metadata": {},
   "source": [
    "Now you can count how many shipments each carrier made:"
   ]
  },
  {
   "cell_type": "code",
   "execution_count": null,
   "id": "042509e0",
   "metadata": {},
   "outputs": [],
   "source": [
    "# Count how many shipments each carrier made\n",
    "shipping_df.group_by(\"Carrier\").count().show()\n",
    "\n",
    "# Count late shipments\n",
    "shipping_df.filter(shipping_df[\"Late\"] == True).count()"
   ]
  },
  {
   "cell_type": "markdown",
   "id": "7bc736f2",
   "metadata": {},
   "source": [
    "Since this dataset is small, you can easily convert it to pandas and use some of the built-in functions to explore it further."
   ]
  },
  {
   "cell_type": "code",
   "execution_count": null,
   "id": "ef9a5fbc",
   "metadata": {},
   "outputs": [],
   "source": [
    "pandas_df = shipping_df.to_pandas()\n",
    "pandas_df.describe()"
   ]
  },
  {
   "cell_type": "markdown",
   "id": "f8ddf433",
   "metadata": {},
   "source": [
    "## ✅ Step 3: Save the data to a table in the database"
   ]
  },
  {
   "cell_type": "code",
   "execution_count": null,
   "id": "98d4a752",
   "metadata": {},
   "outputs": [],
   "source": [
    "shipping_df.write.save_as_table(\"shipping_logs\", mode=\"overwrite\")"
   ]
  },
  {
   "cell_type": "markdown",
   "id": "23fe6a94",
   "metadata": {},
   "source": [
    "## ✅ Challenge Extension (Optional)\n",
    "Try building a quick prototype in Streamlit that lets a user:\n",
    "- Search shipping logs by location or keyword\n",
    "- Display the top locations with shipping issues"
   ]
  }
 ],
 "metadata": {
  "kernelspec": {
   "display_name": "Python 3 (ipykernel)",
   "language": "python",
   "name": "python3"
  },
  "language_info": {
   "codemirror_mode": {
    "name": "ipython",
    "version": 3
   },
   "file_extension": ".py",
   "mimetype": "text/x-python",
   "name": "python",
   "nbconvert_exporter": "python",
   "pygments_lexer": "ipython3",
   "version": "3.12.7"
  }
 },
 "nbformat": 4,
 "nbformat_minor": 5
}
