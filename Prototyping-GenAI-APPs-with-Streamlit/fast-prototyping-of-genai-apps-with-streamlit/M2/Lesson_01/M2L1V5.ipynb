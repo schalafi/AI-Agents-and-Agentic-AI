{
 "cells": [
  {
   "cell_type": "code",
   "execution_count": null,
   "id": "62923686",
   "metadata": {
    "vscode": {
     "languageId": "plaintext"
    }
   },
   "outputs": [],
   "source": [
    "LIST @AVALANCHE_STAGE;"
   ]
  },
  {
   "cell_type": "code",
   "execution_count": null,
   "metadata": {
    "vscode": {
     "languageId": "plaintext"
    }
   },
   "outputs": [],
   "source": [
    "CREATE OR REPLACE TABLE raw_customer_reviews AS\n",
    "SELECT\n",
    "  RELATIVE_PATH AS filename,\n",
    "  SNOWFLAKE.CORTEX.PARSE_DOCUMENT(\n",
    "    '@AVALANCHE_STAGE', \n",
    "    RELATIVE_PATH\n",
    "  ) AS extracted_content\n",
    "FROM\n",
    "  DIRECTORY('@AVALANCHE_STAGE')\n",
    "WHERE\n",
    "  RELATIVE_PATH LIKE '%.docx';"
   ]
  },
  {
   "cell_type": "code",
   "execution_count": null,
   "id": "cea69a3f",
   "metadata": {
    "vscode": {
     "languageId": "plaintext"
    }
   },
   "outputs": [],
   "source": [
    "SELECT \n",
    "  filename,\n",
    "  extracted_content\n",
    "FROM raw_customer_reviews\n",
    "LIMIT 3;"
   ]
  }
 ],
 "metadata": {
  "language_info": {
   "name": "python"
  }
 },
 "nbformat": 4,
 "nbformat_minor": 5
}
