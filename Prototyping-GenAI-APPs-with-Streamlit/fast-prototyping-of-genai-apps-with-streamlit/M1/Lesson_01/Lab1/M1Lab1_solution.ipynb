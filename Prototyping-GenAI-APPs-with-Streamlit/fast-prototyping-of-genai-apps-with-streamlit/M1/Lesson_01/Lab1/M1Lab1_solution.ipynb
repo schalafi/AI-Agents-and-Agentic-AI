{
 "cells": [
  {
   "cell_type": "markdown",
   "id": "f289863d",
   "metadata": {},
   "source": [
    "# GenAI MVP Lab: Planning as a Data Scientist\n",
    "In this lab, you'll use Generative AI as a co-creator to plan a Minimum Viable Product (MVP) for a data-driven app. Instead of working alone, you'll collaborate with GenAI to brainstorm features, prioritize tasks, and map out a build plan.\n",
    "You will do just like Priya, an ML engineer at a healthcare startup, who used GenAI to scope and refine her MVP for extracting insights from clinical trial PDFs."
   ]
  },
  {
   "cell_type": "markdown",
   "id": "969c7241",
   "metadata": {},
   "source": [
    "## Step 1: Define Your Prompt\n",
    "Use this template to frame your request to GenAI:\n",
    "\n",
    "```\n",
    "You are a [relevant role/expert].\n",
    "I need help with [specific data science task/problem].\n",
    "My situation is [relevant context/background].\n",
    "Please [specific request] in [desired format].\n",
    "```\n",
    "\n",
    "### Example:\n",
    "```\n",
    "You are a product manager with experience in healthcare data apps.\n",
    "I need help planning an MVP for an app that extracts structured data from clinical trial PDFs.\n",
    "My team is short on time and needs a demo for clinical operations staff.\n",
    "Please help me outline a build plan in bullet points.\n",
    "```"
   ]
  },
  {
   "cell_type": "markdown",
   "id": "f6aa061a",
   "metadata": {},
   "source": [
    "## Step 2: Provide MVP Guidelines\n",
    "Share these principles to help GenAI guide you as a data scientist building an app:\n",
    "```\n",
    "- Define your end goal (e.g., automate data extraction from clinical documents)\n",
    "- Determine your target audience (e.g., clinical operations staff, analysts)\n",
    "- Identify metrics for success (e.g., time saved, accuracy, user adoption)\n",
    "- Prioritize must-have features for the MVP (e.g., PDF upload, data extraction, results table, export)\n",
    "```"
   ]
  },
  {
   "cell_type": "markdown",
   "id": "6af48a8d",
   "metadata": {},
   "source": [
    "## Step 3: Brainstorm With GenAI\n",
    "Let GenAI ask you questions or propose features based on the guidelines. If it doesn't, prompt it with:\n",
    "```\n",
    "Walk through each principle with me to help me plan an MVP for a GenAI-powered data app.\n",
    "```\n",
    "For example, ask GenAI to help you clarify the problem, audience, success metrics, and core features for your app."
   ]
  },
  {
   "cell_type": "markdown",
   "id": "4683c40d",
   "metadata": {},
   "source": [
    "## Step 4: Explore Your Domain and Audience\n",
    "Use these questions to help narrow your focus for a GenAI-powered data app:\n",
    "- What domain (e.g., healthcare, finance, research) interests you?\n",
    "- What data problems do you see regularly in this domain?\n",
    "- Who feels this pain point the most (e.g., clinical staff, analysts)?\n",
    "- What would success look like for your users?\n",
    "- What existing solutions frustrate people?\n",
    "- Where and how would they use your product (e.g., web app, internal tool)?"
   ]
  },
  {
   "cell_type": "markdown",
   "id": "edd105f0",
   "metadata": {},
   "source": [
    "## Step 5: Define MVP Metrics\n",
    "Think about metrics like:\n",
    "- Behavioral: Number of documents processed, feature usage, time saved\n",
    "- Business: User sign-ups, demo requests, stakeholder satisfaction\n",
    "- Qualitative: User feedback, ease of use, support tickets\n",
    "- Leading Indicators: Early adoption, positive feedback from pilot users"
   ]
  },
  {
   "cell_type": "markdown",
   "id": "a756953a",
   "metadata": {},
   "source": [
    "## Step 6: Prioritize Features\n",
    "Ask GenAI:\n",
    "```\n",
    "Help me identify the must-have features for a GenAI-powered data extraction app, and separate them from the nice-to-haves or next-version features.\n",
    "```\n",
    "For example:\n",
    "- Must-Have: PDF upload, GenAI data extraction, results table, export to CSV\n",
    "- Nice-to-Have: Data visualization, user authentication, advanced filtering\n",
    "- Next Version: Integration with external databases, automated report generation"
   ]
  },
  {
   "cell_type": "markdown",
   "id": "cca2b1c2",
   "metadata": {},
   "source": [
    "## Final Reminder\n",
    "Generative AI is great for:\n",
    "- Brainstorming features and workflows\n",
    "- Generating boilerplate code and queries\n",
    "- Debugging and planning\n",
    "- Recommending architecture and tools\n",
    "\n",
    "But you’ll need human judgment for:\n",
    "- Picking the right problem to solve\n",
    "- Making UX decisions for your users\n",
    "- Applying business logic\n",
    "- Validating and interpreting AI outputs"
   ]
  }
 ],
 "metadata": {
  "kernelspec": {
   "display_name": "Python 3 (ipykernel)",
   "language": "python",
   "name": "python3"
  },
  "language_info": {
   "codemirror_mode": {
    "name": "ipython",
    "version": 3
   },
   "file_extension": ".py",
   "mimetype": "text/x-python",
   "name": "python",
   "nbconvert_exporter": "python",
   "pygments_lexer": "ipython3",
   "version": "3.12.7"
  }
 },
 "nbformat": 4,
 "nbformat_minor": 5
}
